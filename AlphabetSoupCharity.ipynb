{
 "cells": [
  {
   "cell_type": "markdown",
   "metadata": {},
   "source": [
    "### Deliverable 1: Preprocessing the Data for a Neural Network"
   ]
  },
  {
   "cell_type": "code",
   "execution_count": null,
   "metadata": {},
   "outputs": [],
   "source": [
    "# Import our dependencies\n",
    "from sklearn.model_selection import train_test_split\n",
    "from sklearn.preprocessing import StandardScaler,OneHotEncoder\n",
    "import pandas as pd\n",
    "import tensorflow as tf\n",
    "\n"
   ]
  },
  {
   "cell_type": "code",
   "execution_count": null,
   "metadata": {},
   "outputs": [],
   "source": [
    "#  Import and read the charity_data.csv.\n",
    "import pandas as pd \n",
    "application_df = pd.read_csv(\"D:/Charity/Neural_Network_Charity_Analysis/Charity_data.csv\")\n",
    "application_df.head()"
   ]
  },
  {
   "cell_type": "code",
   "execution_count": null,
   "metadata": {},
   "outputs": [],
   "source": [
    "# Drop the non-beneficial ID columns, 'EIN' and 'NAME'.\n",
    "application_df.drop(columns=[\"EIN\",\"NAME\"], inplace=True)"
   ]
  },
  {
   "cell_type": "code",
   "execution_count": null,
   "metadata": {},
   "outputs": [],
   "source": [
    "# Determine the number of unique values in each column.\n",
    "application_df.nunique()"
   ]
  },
  {
   "cell_type": "code",
   "execution_count": null,
   "metadata": {},
   "outputs": [],
   "source": [
    "# Look at APPLICATION_TYPE value counts for binning\n",
    "application_type_counts = application_df[\"APPLICATION_TYPE\"].value_counts()\n",
    "application_type_counts"
   ]
  },
  {
   "cell_type": "code",
   "execution_count": null,
   "metadata": {},
   "outputs": [],
   "source": [
    "# Visualize the value counts of APPLICATION_TYPE\n",
    "application_type_counts.plot.density()"
   ]
  },
  {
   "cell_type": "code",
   "execution_count": null,
   "metadata": {},
   "outputs": [],
   "source": [
    "# Determine which values to replace if counts are less than ...?\n",
    "replace_application=list(application_type_counts[application_type_counts < 300].index)\n",
    "\n",
    "# Replace in dataframe\n",
    "for app in replace_application:\n",
    "    application_df.APPLICATION_TYPE = application_df.APPLICATION_TYPE.replace(app,\"Other\")\n",
    "    \n",
    "# Check to make sure binning was successful\n",
    "application_df.APPLICATION_TYPE.value_counts()"
   ]
  },
  {
   "cell_type": "code",
   "execution_count": null,
   "metadata": {},
   "outputs": [],
   "source": [
    "# Look at CLASSIFICATION value counts for binning\n",
    "classification_counts = application_df[\"CLASSIFICATION\"].value_counts()\n",
    "classification_counts"
   ]
  },
  {
   "cell_type": "code",
   "execution_count": null,
   "metadata": {},
   "outputs": [],
   "source": [
    "# Visualize the value counts of CLASSIFICATION\n",
    "classification_counts.plot.density()"
   ]
  },
  {
   "cell_type": "code",
   "execution_count": null,
   "metadata": {},
   "outputs": [],
   "source": [
    "# Determine which values to replace if counts are less than ..?\n",
    "replace_class=list(classification_counts[classification_counts < 1800].index)\n",
    "\n",
    "# Replace in dataframe\n",
    "for cls in replace_class:\n",
    "    application_df.CLASSIFICATION = application_df.CLASSIFICATION.replace(cls,\"Other\")\n",
    "    \n",
    "# Check to make sure binning was successful\n",
    "application_df.CLASSIFICATION.value_counts()"
   ]
  },
  {
   "cell_type": "code",
   "execution_count": null,
   "metadata": {},
   "outputs": [],
   "source": [
    "# Generate our categorical variable lists\n",
    "apply_cat = application_df.dtypes[application_df.dtypes == \"object\"].index.tolist()"
   ]
  },
  {
   "cell_type": "code",
   "execution_count": null,
   "metadata": {},
   "outputs": [],
   "source": [
    "# Create a OneHotEncoder instance\n",
    "enc = OneHotEncoder(sparse=False)\n",
    "\n",
    "# Fit and transform the OneHotEncoder using the categorical variable list\n",
    "encode_df = pd.DataFrame(enc.fit_transform(application_df[apply_cat]))\n",
    "\n",
    "\n",
    "# Add the encoded variable names to the dataframe\n",
    "encode_df.columns = enc.get_feature_names(apply_cat)\n",
    "encode_df.head()"
   ]
  },
  {
   "cell_type": "code",
   "execution_count": null,
   "metadata": {},
   "outputs": [],
   "source": [
    "# Merge one-hot encoded features and drop the originals\n",
    "application_df = application_df.merge(encode_df,left_index=True, right_index=True)\n",
    "application_df = application_df.drop(apply_cat,1)\n",
    "application_df.head()"
   ]
  },
  {
   "cell_type": "code",
   "execution_count": null,
   "metadata": {},
   "outputs": [],
   "source": [
    "# Split our preprocessed data into our features and target arrays\n",
    "y = application_df[\"IS_SUCCESSFUL\"].values\n",
    "X = application_df.drop([\"IS_SUCCESSFUL\"],1).values\n",
    "\n",
    "# Split the preprocessed data into a training and testing dataset\n",
    "X_train, X_test, y_train, y_test = train_test_split(X, y, random_state=78)"
   ]
  },
  {
   "cell_type": "code",
   "execution_count": null,
   "metadata": {},
   "outputs": [],
   "source": [
    "# Create a StandardScaler instances\n",
    "scaler = StandardScaler()\n",
    "\n",
    "# Fit the StandardScaler\n",
    "X_scaler = scaler.fit(X_train)\n",
    "\n",
    "# Scale the data\n",
    "X_train_scaled = X_scaler.transform(X_train)\n",
    "X_test_scaled = X_scaler.transform(X_test)"
   ]
  },
  {
   "cell_type": "markdown",
   "metadata": {},
   "source": [
    "### Deliverable 2: Compile, Train and Evaluate the Model"
   ]
  },
  {
   "cell_type": "code",
   "execution_count": null,
   "metadata": {},
   "outputs": [],
   "source": [
    "# Define the model - deep neural net, i.e., the number of input features and hidden nodes for each layer.\n",
    "number_input_features = len(X_train[0])\n",
    "hidden_nodes_layer1 =  80\n",
    "hidden_nodes_layer2 = 30\n",
    "\n",
    "nn = tf.keras.models.Sequential()\n",
    "\n",
    "# First hidden layer\n",
    "nn.add(\n",
    "    tf.keras.layers.Dense(units=hidden_nodes_layer1, input_dim=number_input_features, activation=\"relu\")\n",
    ")\n",
    "\n",
    "# Second hidden layer\n",
    "nn.add(tf.keras.layers.Dense(units=hidden_nodes_layer2, activation=\"relu\"))\n",
    "\n",
    "\n",
    "# Output layer\n",
    "nn.add(tf.keras.layers.Dense(units=1, activation=\"sigmoid\"))\n",
    "\n",
    "# Check the structure of the model\n",
    "nn.summary()"
   ]
  },
  {
   "cell_type": "code",
   "execution_count": null,
   "metadata": {},
   "outputs": [],
   "source": [
    "# Import checkpoint dependencies\n",
    "import os\n",
    "from tensorflow.keras.callbacks import ModelCheckpoint\n",
    "\n",
    "# Define the checkpoint path and filenames\n",
    "os.makedirs(\"checkpoints/\",exist_ok=True)\n",
    "checkpoint_path = \"checkpoints/AlphabetSoupCharity.{epoch:02d}.hdf5\""
   ]
  },
  {
   "cell_type": "code",
   "execution_count": null,
   "metadata": {},
   "outputs": [],
   "source": [
    "# Compile the model\n",
    "nn.compile(loss=\"binary_crossentropy\", optimizer=\"adam\", metrics=[\"accuracy\"])\n",
    "\n",
    "# Create a callback that saves the model's weights every 5 epochs\n",
    "cp_callback = ModelCheckpoint(\n",
    "    filepath=checkpoint_path,\n",
    "    verbose=1,\n",
    "    save_weights_only=True,\n",
    "    save_freq=1000)\n"
   ]
  },
  {
   "cell_type": "code",
   "execution_count": null,
   "metadata": {},
   "outputs": [],
   "source": [
    "# Train the model\n",
    "fit_model = nn.fit(X_train,y_train,epochs=100,callbacks=[cp_callback])"
   ]
  },
  {
   "cell_type": "code",
   "execution_count": null,
   "metadata": {},
   "outputs": [],
   "source": [
    "# Evaluate the model using the test data\n",
    "model_loss, model_accuracy = nn.evaluate(X_test_scaled,y_test,verbose=2)\n",
    "print(f\"Loss: {model_loss}, Accuracy: {model_accuracy}\")"
   ]
  },
  {
   "cell_type": "markdown",
   "metadata": {},
   "source": [
    "Deliverable 3"
   ]
  },
  {
   "cell_type": "code",
   "execution_count": null,
   "metadata": {},
   "outputs": [],
   "source": [
    "# Define the model - deep neural net, i.e., the number of input features and hidden nodes for each layer.\n",
    "#Adding extra neurons to the second hidden layer \n",
    "number_input_features = len(X_train[0])\n",
    "hidden_nodes_layer1 =  80\n",
    "hidden_nodes_layer2 = 50\n",
    "\n",
    "nn = tf.keras.models.Sequential()\n",
    "\n",
    "# First hidden layer\n",
    "nn.add(\n",
    "    tf.keras.layers.Dense(units=hidden_nodes_layer1, input_dim=number_input_features, activation=\"relu\")\n",
    ")\n",
    "\n",
    "# Second hidden layer\n",
    "nn.add(tf.keras.layers.Dense(units=hidden_nodes_layer2, activation=\"relu\"))\n",
    "\n",
    "\n",
    "# Output layer\n",
    "nn.add(tf.keras.layers.Dense(units=1, activation=\"sigmoid\"))\n",
    "\n",
    "# Check the structure of the model\n",
    "nn.summary()"
   ]
  },
  {
   "cell_type": "code",
   "execution_count": null,
   "metadata": {},
   "outputs": [],
   "source": [
    "# Compile the model\n",
    "nn.compile(loss=\"binary_crossentropy\", optimizer=\"adam\", metrics=[\"accuracy\"])"
   ]
  },
  {
   "cell_type": "code",
   "execution_count": null,
   "metadata": {},
   "outputs": [],
   "source": [
    "# Train the model\n",
    "fit_model = nn.fit(X_train,y_train,epochs=100)"
   ]
  },
  {
   "cell_type": "code",
   "execution_count": null,
   "metadata": {},
   "outputs": [],
   "source": [
    "# Define the model - deep neural net, i.e., the number of input features and hidden nodes for each layer.\n",
    "#using the default linear function in the first hidden layer \n",
    "number_input_features = len(X_train[0])\n",
    "hidden_nodes_layer1 =  80\n",
    "hidden_nodes_layer2 = 50\n",
    "\n",
    "nn = tf.keras.models.Sequential()\n",
    "\n",
    "# First hidden layer\n",
    "nn.add(\n",
    "    tf.keras.layers.Dense(units=hidden_nodes_layer1, input_dim=number_input_features)\n",
    ")\n",
    "\n",
    "# Second hidden layer\n",
    "nn.add(tf.keras.layers.Dense(units=hidden_nodes_layer2, activation=\"relu\"))\n",
    "\n",
    "\n",
    "# Output layer\n",
    "nn.add(tf.keras.layers.Dense(units=1, activation=\"sigmoid\"))\n",
    "\n",
    "# Check the structure of the model\n",
    "nn.summary()"
   ]
  },
  {
   "cell_type": "code",
   "execution_count": null,
   "metadata": {},
   "outputs": [],
   "source": [
    "# Compile the model\n",
    "nn.compile(loss=\"binary_crossentropy\", optimizer=\"adam\", metrics=[\"accuracy\"])"
   ]
  },
  {
   "cell_type": "code",
   "execution_count": null,
   "metadata": {},
   "outputs": [],
   "source": [
    "# Train the model\n",
    "fit_model = nn.fit(X_train,y_train,epochs=100)"
   ]
  },
  {
   "cell_type": "code",
   "execution_count": null,
   "metadata": {},
   "outputs": [],
   "source": [
    "# Define the model - deep neural net, i.e., the number of input features and hidden nodes for each layer.\n",
    "#using the default linear function in the first hidden layer \n",
    "number_input_features = len(X_train[0])\n",
    "hidden_nodes_layer1 =  80\n",
    "hidden_nodes_layer2 = 50\n",
    "\n",
    "nn = tf.keras.models.Sequential()\n",
    "\n",
    "# First hidden layer\n",
    "nn.add(\n",
    "    tf.keras.layers.Dense(units=hidden_nodes_layer1, input_dim=number_input_features)\n",
    ")\n",
    "\n",
    "# Second hidden layer\n",
    "nn.add(tf.keras.layers.Dense(units=hidden_nodes_layer2))\n",
    "\n",
    "\n",
    "# Output layer\n",
    "nn.add(tf.keras.layers.Dense(units=1, activation=\"relu\"))\n",
    "\n",
    "# Check the structure of the model\n",
    "nn.summary()"
   ]
  },
  {
   "cell_type": "code",
   "execution_count": null,
   "metadata": {},
   "outputs": [],
   "source": [
    "# Compile the model\n",
    "nn.compile(loss=\"binary_crossentropy\", optimizer=\"adam\", metrics=[\"accuracy\"])"
   ]
  },
  {
   "cell_type": "code",
   "execution_count": null,
   "metadata": {},
   "outputs": [],
   "source": [
    "# Train the model\n",
    "fit_model = nn.fit(X_train,y_train,epochs=100)"
   ]
  },
  {
   "cell_type": "code",
   "execution_count": 50,
   "metadata": {},
   "outputs": [
    {
     "name": "stdout",
     "output_type": "stream",
     "text": [
      "Model: \"sequential_15\"\n",
      "_________________________________________________________________\n",
      "Layer (type)                 Output Shape              Param #   \n",
      "=================================================================\n",
      "dense_33 (Dense)             (None, 100)               4400      \n",
      "_________________________________________________________________\n",
      "dense_34 (Dense)             (None, 100)               10100     \n",
      "_________________________________________________________________\n",
      "dense_35 (Dense)             (None, 80)                8080      \n",
      "_________________________________________________________________\n",
      "dense_36 (Dense)             (None, 50)                4050      \n",
      "_________________________________________________________________\n",
      "dense_37 (Dense)             (None, 1)                 51        \n",
      "=================================================================\n",
      "Total params: 26,681\n",
      "Trainable params: 26,681\n",
      "Non-trainable params: 0\n",
      "_________________________________________________________________\n"
     ]
    }
   ],
   "source": [
    "# Define the model - deep neural net, i.e., the number of input features and hidden nodes for each layer.\n",
    "#Adding extra neurons to the second hidden layer \n",
    "\n",
    "number_input_features = len(X_train[0])\n",
    "hidden_nodes_layer1 =  100\n",
    "hidden_nodes_layer2 =100\n",
    "hidden_nodes_layer3 = 80\n",
    "hidden_nodes_layer4 = 50\n",
    "\n",
    "nn = tf.keras.models.Sequential()\n",
    "\n",
    "# First hidden layer\n",
    "nn.add(\n",
    "    tf.keras.layers.Dense(units=hidden_nodes_layer1, input_dim=number_input_features, activation=\"relu\")\n",
    ")\n",
    "\n",
    "# Second hidden layer\n",
    "nn.add(tf.keras.layers.Dense(units=hidden_nodes_layer2, activation=\"relu\"))\n",
    "\n",
    "# Third hidden layer\n",
    "nn.add(tf.keras.layers.Dense(units=hidden_nodes_layer3, activation=\"relu\"))\n",
    "\n",
    "# Fourth hidden layer\n",
    "nn.add(tf.keras.layers.Dense(units=hidden_nodes_layer4, activation=\"relu\"))\n",
    "\n",
    "\n",
    "# Output layer\n",
    "nn.add(tf.keras.layers.Dense(units=1, activation=\"sigmoid\"))\n",
    "\n",
    "# Check the structure of the model\n",
    "nn.summary()"
   ]
  },
  {
   "cell_type": "code",
   "execution_count": 51,
   "metadata": {},
   "outputs": [],
   "source": [
    "# Compile the model\n",
    "nn.compile(loss=\"binary_crossentropy\", optimizer=\"adam\", metrics=[\"accuracy\"])"
   ]
  },
  {
   "cell_type": "code",
   "execution_count": 52,
   "metadata": {},
   "outputs": [
    {
     "name": "stdout",
     "output_type": "stream",
     "text": [
      "Epoch 1/100\n",
      "804/804 [==============================] - 3s 3ms/step - loss: 54903.1378 - accuracy: 0.4868\n",
      "Epoch 2/100\n",
      "804/804 [==============================] - 2s 2ms/step - loss: 9155.4236 - accuracy: 0.4903\n",
      "Epoch 3/100\n",
      "804/804 [==============================] - 2s 2ms/step - loss: 363.3441 - accuracy: 0.5016\n",
      "Epoch 4/100\n",
      "804/804 [==============================] - 2s 2ms/step - loss: 0.7011 - accuracy: 0.5318\n",
      "Epoch 5/100\n",
      "804/804 [==============================] - 2s 2ms/step - loss: 0.6931 - accuracy: 0.5266\n",
      "Epoch 6/100\n",
      "804/804 [==============================] - 2s 2ms/step - loss: 0.6907 - accuracy: 0.5354\n",
      "Epoch 7/100\n",
      "804/804 [==============================] - 2s 2ms/step - loss: 0.6910 - accuracy: 0.5329\n",
      "Epoch 8/100\n",
      "804/804 [==============================] - 2s 2ms/step - loss: 0.6918 - accuracy: 0.5262\n",
      "Epoch 9/100\n",
      "804/804 [==============================] - 2s 2ms/step - loss: 0.6919 - accuracy: 0.5259\n",
      "Epoch 10/100\n",
      "804/804 [==============================] - 2s 2ms/step - loss: 0.6913 - accuracy: 0.5306\n",
      "Epoch 11/100\n",
      "804/804 [==============================] - 2s 3ms/step - loss: 0.6906 - accuracy: 0.5359\n",
      "Epoch 12/100\n",
      "804/804 [==============================] - 2s 3ms/step - loss: 0.6910 - accuracy: 0.5333\n",
      "Epoch 13/100\n",
      "804/804 [==============================] - 2s 2ms/step - loss: 0.6910 - accuracy: 0.5333\n",
      "Epoch 14/100\n",
      "804/804 [==============================] - 2s 2ms/step - loss: 0.6908 - accuracy: 0.5346\n",
      "Epoch 15/100\n",
      "804/804 [==============================] - 2s 2ms/step - loss: 0.6914 - accuracy: 0.5300\n",
      "Epoch 16/100\n",
      "804/804 [==============================] - 2s 2ms/step - loss: 0.6907 - accuracy: 0.5356\n",
      "Epoch 17/100\n",
      "804/804 [==============================] - 2s 2ms/step - loss: 0.6918 - accuracy: 0.5259\n",
      "Epoch 18/100\n",
      "804/804 [==============================] - 2s 2ms/step - loss: 0.6909 - accuracy: 0.5334\n",
      "Epoch 19/100\n",
      "804/804 [==============================] - 2s 2ms/step - loss: 0.6912 - accuracy: 0.5311\n",
      "Epoch 20/100\n",
      "804/804 [==============================] - 2s 3ms/step - loss: 0.6907 - accuracy: 0.5349\n",
      "Epoch 21/100\n",
      "804/804 [==============================] - 2s 2ms/step - loss: 0.6906 - accuracy: 0.5363\n",
      "Epoch 22/100\n",
      "804/804 [==============================] - 2s 2ms/step - loss: 0.6910 - accuracy: 0.5331\n",
      "Epoch 23/100\n",
      "804/804 [==============================] - 2s 2ms/step - loss: 0.6909 - accuracy: 0.5335\n",
      "Epoch 24/100\n",
      "804/804 [==============================] - 2s 2ms/step - loss: 0.6909 - accuracy: 0.5334\n",
      "Epoch 25/100\n",
      "804/804 [==============================] - 2s 3ms/step - loss: 0.6908 - accuracy: 0.5349\n",
      "Epoch 26/100\n",
      "804/804 [==============================] - 2s 2ms/step - loss: 0.6905 - accuracy: 0.5371\n",
      "Epoch 27/100\n",
      "804/804 [==============================] - 2s 2ms/step - loss: 0.6905 - accuracy: 0.5369\n",
      "Epoch 28/100\n",
      "804/804 [==============================] - 2s 3ms/step - loss: 0.6913 - accuracy: 0.5310\n",
      "Epoch 29/100\n",
      "804/804 [==============================] - 2s 2ms/step - loss: 0.6912 - accuracy: 0.5310\n",
      "Epoch 30/100\n",
      "804/804 [==============================] - 2s 2ms/step - loss: 0.6910 - accuracy: 0.5328\n",
      "Epoch 31/100\n",
      "804/804 [==============================] - 2s 3ms/step - loss: 0.6908 - accuracy: 0.5348\n",
      "Epoch 32/100\n",
      "804/804 [==============================] - 2s 2ms/step - loss: 0.6899 - accuracy: 0.5412\n",
      "Epoch 33/100\n",
      "804/804 [==============================] - 2s 2ms/step - loss: 0.6920 - accuracy: 0.5249\n",
      "Epoch 34/100\n",
      "804/804 [==============================] - 2s 2ms/step - loss: 0.6908 - accuracy: 0.5343\n",
      "Epoch 35/100\n",
      "804/804 [==============================] - 2s 3ms/step - loss: 0.6911 - accuracy: 0.5324\n",
      "Epoch 36/100\n",
      "804/804 [==============================] - 2s 2ms/step - loss: 0.6910 - accuracy: 0.5326\n",
      "Epoch 37/100\n",
      "804/804 [==============================] - 2s 2ms/step - loss: 0.6908 - accuracy: 0.5346\n",
      "Epoch 38/100\n",
      "804/804 [==============================] - 2s 3ms/step - loss: 0.6910 - accuracy: 0.5332\n",
      "Epoch 39/100\n",
      "804/804 [==============================] - 2s 3ms/step - loss: 0.6907 - accuracy: 0.5350\n",
      "Epoch 40/100\n",
      "804/804 [==============================] - 2s 3ms/step - loss: 0.6909 - accuracy: 0.5340\n",
      "Epoch 41/100\n",
      "804/804 [==============================] - 2s 2ms/step - loss: 0.6918 - accuracy: 0.5269\n",
      "Epoch 42/100\n",
      "804/804 [==============================] - 2s 3ms/step - loss: 0.6910 - accuracy: 0.5332\n",
      "Epoch 43/100\n",
      "804/804 [==============================] - 2s 2ms/step - loss: 0.6914 - accuracy: 0.5297\n",
      "Epoch 44/100\n",
      "804/804 [==============================] - 2s 3ms/step - loss: 0.6909 - accuracy: 0.5335\n",
      "Epoch 45/100\n",
      "804/804 [==============================] - 2s 2ms/step - loss: 0.6911 - accuracy: 0.5321\n",
      "Epoch 46/100\n",
      "804/804 [==============================] - 2s 2ms/step - loss: 0.6911 - accuracy: 0.5322\n",
      "Epoch 47/100\n",
      "804/804 [==============================] - 2s 2ms/step - loss: 0.6915 - accuracy: 0.5285\n",
      "Epoch 48/100\n",
      "804/804 [==============================] - 2s 3ms/step - loss: 0.6908 - accuracy: 0.5348\n",
      "Epoch 49/100\n",
      "804/804 [==============================] - 2s 3ms/step - loss: 0.6907 - accuracy: 0.5353\n",
      "Epoch 50/100\n",
      "804/804 [==============================] - 2s 2ms/step - loss: 0.6917 - accuracy: 0.5273\n",
      "Epoch 51/100\n",
      "804/804 [==============================] - 2s 3ms/step - loss: 0.6912 - accuracy: 0.5318\n",
      "Epoch 52/100\n",
      "804/804 [==============================] - 2s 3ms/step - loss: 0.6913 - accuracy: 0.5305\n",
      "Epoch 53/100\n",
      "804/804 [==============================] - 2s 3ms/step - loss: 0.6912 - accuracy: 0.5315\n",
      "Epoch 54/100\n",
      "804/804 [==============================] - 2s 3ms/step - loss: 0.6914 - accuracy: 0.5300\n",
      "Epoch 55/100\n",
      "804/804 [==============================] - 2s 3ms/step - loss: 0.6917 - accuracy: 0.5275\n",
      "Epoch 56/100\n",
      "804/804 [==============================] - 2s 3ms/step - loss: 0.6922 - accuracy: 0.5241\n",
      "Epoch 57/100\n",
      "804/804 [==============================] - 2s 3ms/step - loss: 0.6910 - accuracy: 0.5333\n",
      "Epoch 58/100\n",
      "804/804 [==============================] - 2s 2ms/step - loss: 0.6920 - accuracy: 0.5246\n",
      "Epoch 59/100\n",
      "804/804 [==============================] - 2s 2ms/step - loss: 0.6911 - accuracy: 0.5323\n",
      "Epoch 60/100\n",
      "804/804 [==============================] - 2s 2ms/step - loss: 0.6908 - accuracy: 0.5349\n",
      "Epoch 61/100\n",
      "804/804 [==============================] - 2s 3ms/step - loss: 0.6909 - accuracy: 0.5341\n",
      "Epoch 62/100\n",
      "804/804 [==============================] - 2s 2ms/step - loss: 0.6911 - accuracy: 0.5320\n",
      "Epoch 63/100\n",
      "804/804 [==============================] - 2s 2ms/step - loss: 0.6914 - accuracy: 0.5299\n",
      "Epoch 64/100\n",
      "804/804 [==============================] - 2s 3ms/step - loss: 0.6912 - accuracy: 0.5313\n",
      "Epoch 65/100\n",
      "804/804 [==============================] - 2s 3ms/step - loss: 0.6907 - accuracy: 0.5350\n",
      "Epoch 66/100\n",
      "804/804 [==============================] - 2s 3ms/step - loss: 0.6908 - accuracy: 0.5345\n",
      "Epoch 67/100\n",
      "804/804 [==============================] - 2s 3ms/step - loss: 0.6914 - accuracy: 0.5297\n",
      "Epoch 68/100\n",
      "804/804 [==============================] - 2s 3ms/step - loss: 0.6908 - accuracy: 0.5347\n",
      "Epoch 69/100\n",
      "804/804 [==============================] - 2s 3ms/step - loss: 0.6912 - accuracy: 0.5310\n",
      "Epoch 70/100\n",
      "804/804 [==============================] - 3s 3ms/step - loss: 0.6912 - accuracy: 0.5316\n",
      "Epoch 71/100\n",
      "804/804 [==============================] - 2s 3ms/step - loss: 0.6915 - accuracy: 0.5289\n",
      "Epoch 72/100\n",
      "804/804 [==============================] - 2s 3ms/step - loss: 0.6912 - accuracy: 0.5318\n",
      "Epoch 73/100\n",
      "804/804 [==============================] - 2s 3ms/step - loss: 0.6911 - accuracy: 0.5321\n",
      "Epoch 74/100\n",
      "804/804 [==============================] - 2s 3ms/step - loss: 0.6919 - accuracy: 0.5253\n",
      "Epoch 75/100\n",
      "804/804 [==============================] - 2s 3ms/step - loss: 0.6912 - accuracy: 0.5313\n",
      "Epoch 76/100\n",
      "804/804 [==============================] - 2s 3ms/step - loss: 0.6912 - accuracy: 0.5317\n",
      "Epoch 77/100\n",
      "804/804 [==============================] - 2s 3ms/step - loss: 0.6909 - accuracy: 0.5339\n",
      "Epoch 78/100\n",
      "804/804 [==============================] - 2s 3ms/step - loss: 0.6918 - accuracy: 0.5265\n",
      "Epoch 79/100\n",
      "804/804 [==============================] - 2s 3ms/step - loss: 0.6906 - accuracy: 0.5356\n",
      "Epoch 80/100\n",
      "804/804 [==============================] - 2s 3ms/step - loss: 0.6917 - accuracy: 0.5275\n",
      "Epoch 81/100\n",
      "804/804 [==============================] - 2s 2ms/step - loss: 0.6908 - accuracy: 0.5343\n",
      "Epoch 82/100\n",
      "804/804 [==============================] - 2s 2ms/step - loss: 0.6917 - accuracy: 0.5272\n",
      "Epoch 83/100\n",
      "804/804 [==============================] - 2s 3ms/step - loss: 0.6910 - accuracy: 0.5332\n",
      "Epoch 84/100\n",
      "804/804 [==============================] - 2s 3ms/step - loss: 0.6907 - accuracy: 0.5352\n",
      "Epoch 85/100\n",
      "804/804 [==============================] - 2s 3ms/step - loss: 0.6908 - accuracy: 0.5343\n",
      "Epoch 86/100\n",
      "804/804 [==============================] - 2s 2ms/step - loss: 0.6909 - accuracy: 0.5336\n",
      "Epoch 87/100\n",
      "804/804 [==============================] - 2s 3ms/step - loss: 0.6906 - accuracy: 0.5356\n",
      "Epoch 88/100\n",
      "804/804 [==============================] - 2s 3ms/step - loss: 0.6916 - accuracy: 0.5284\n",
      "Epoch 89/100\n",
      "804/804 [==============================] - 2s 3ms/step - loss: 0.6913 - accuracy: 0.5306\n",
      "Epoch 90/100\n",
      "804/804 [==============================] - 2s 3ms/step - loss: 0.6911 - accuracy: 0.5319\n",
      "Epoch 91/100\n",
      "804/804 [==============================] - 2s 3ms/step - loss: 0.6918 - accuracy: 0.5267\n",
      "Epoch 92/100\n",
      "804/804 [==============================] - 2s 3ms/step - loss: 0.6913 - accuracy: 0.5304\n",
      "Epoch 93/100\n",
      "804/804 [==============================] - 2s 3ms/step - loss: 0.6913 - accuracy: 0.5304\n",
      "Epoch 94/100\n",
      "804/804 [==============================] - 2s 3ms/step - loss: 0.6908 - accuracy: 0.5341\n",
      "Epoch 95/100\n",
      "804/804 [==============================] - 2s 3ms/step - loss: 0.6915 - accuracy: 0.5287\n",
      "Epoch 96/100\n",
      "804/804 [==============================] - 2s 3ms/step - loss: 0.6907 - accuracy: 0.5351\n",
      "Epoch 97/100\n",
      "804/804 [==============================] - 2s 3ms/step - loss: 0.6908 - accuracy: 0.5343\n",
      "Epoch 98/100\n",
      "804/804 [==============================] - 2s 3ms/step - loss: 0.6911 - accuracy: 0.5321\n",
      "Epoch 99/100\n",
      "804/804 [==============================] - 2s 2ms/step - loss: 0.6912 - accuracy: 0.5311\n",
      "Epoch 100/100\n",
      "804/804 [==============================] - 2s 2ms/step - loss: 0.6908 - accuracy: 0.5344\n"
     ]
    }
   ],
   "source": [
    "# Train the model\n",
    "fit_model = nn.fit(X_train,y_train,epochs=100)"
   ]
  },
  {
   "cell_type": "code",
   "execution_count": null,
   "metadata": {},
   "outputs": [],
   "source": []
  },
  {
   "cell_type": "code",
   "execution_count": null,
   "metadata": {},
   "outputs": [],
   "source": []
  }
 ],
 "metadata": {
  "kernelspec": {
   "display_name": "PythonData",
   "language": "python",
   "name": "pythondata"
  },
  "language_info": {
   "codemirror_mode": {
    "name": "ipython",
    "version": 3
   },
   "file_extension": ".py",
   "mimetype": "text/x-python",
   "name": "python",
   "nbconvert_exporter": "python",
   "pygments_lexer": "ipython3",
   "version": "3.7.7"
  }
 },
 "nbformat": 4,
 "nbformat_minor": 2
}
